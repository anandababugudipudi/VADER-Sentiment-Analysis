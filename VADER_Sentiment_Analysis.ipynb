{
  "nbformat": 4,
  "nbformat_minor": 0,
  "metadata": {
    "colab": {
      "name": "VADER Sentiment Analysis.ipynb",
      "provenance": [],
      "collapsed_sections": [],
      "authorship_tag": "ABX9TyOuVdi2t+Mn5mp0LnfWKtWP",
      "include_colab_link": true
    },
    "kernelspec": {
      "name": "python3",
      "display_name": "Python 3"
    },
    "language_info": {
      "name": "python"
    }
  },
  "cells": [
    {
      "cell_type": "markdown",
      "metadata": {
        "id": "view-in-github",
        "colab_type": "text"
      },
      "source": [
        "<a href=\"https://colab.research.google.com/github/anandababugudipudi/VADER-Sentiment-Analysis/blob/main/VADER_Sentiment_Analysis.ipynb\" target=\"_parent\"><img src=\"https://colab.research.google.com/assets/colab-badge.svg\" alt=\"Open In Colab\"/></a>"
      ]
    },
    {
      "cell_type": "markdown",
      "metadata": {
        "id": "_ub-Z259Maxq"
      },
      "source": [
        "#**VADER Sentiment Analysis**\n",
        "**VADER (Valence Aware Dictionary and sEntiment Reasoner)** is a lexicon and rule-based sentiment analysis tool that is specifically attuned to sentiments expressed in social media. VADER uses a combination of A sentiment lexicon is a list of lexical features (e.g., words) which are generally labelled according to their semantic orientation as either positive or negative.\n",
        "\n",
        "VADER has been found to be quite successful when dealing with social media texts, NY Times editorials, movie reviews, and product reviews. This is because VADER not only tells about the Positivity and Negativity score but also tells us about how positive or negative a sentiment is.\n",
        "\n",
        "It is fully open-sourced under the MIT License. The developers of VADER have used Amazon’s Mechanical Turk to get most of their ratings, You can find complete details on their [Github Page](https://github.com/cjhutto/vaderSentiment).\n",
        "\n",
        "###**Advantages of using VADER**\n",
        "VADER has a lot of advantages over traditional methods of Sentiment Analysis, including:\n",
        "- It works exceedingly well on social media type text, yet readily generalizes to multiple domains\n",
        "- It doesn’t require any training data but is constructed from a generalizable, valence-based, human-curated gold standard sentiment lexicon\n",
        "- It is fast enough to be used online with streaming data, and\n",
        "- It does not severely suffer from a speed-performance tradeoff.\n",
        "\n",
        "The source of this article is a very easy to read paper published by the creaters of VADER library.You can read the paper [here](http://comp.social.gatech.edu/papers/icwsm14.vader.hutto.pdf)."
      ]
    },
    {
      "cell_type": "markdown",
      "metadata": {
        "id": "GC35UMa4SoLy"
      },
      "source": [
        "###**What is Sentiment Analysis?**\n",
        "Sentiment Analysis, or Opinion Mining, is a sub-field of Natural Language Processing (NLP) that tries to identify and extract opinions within a given text. The aim of sentiment analysis is to gauge the attitude, sentiments, evaluations, attitudes and emotions of a speaker/writer based on the computational treatment of subjectivity in a text."
      ]
    },
    {
      "cell_type": "markdown",
      "metadata": {
        "id": "A6rTnegHNEm-"
      },
      "source": [
        "###**Installation**\n",
        "The simplest way is to use the command line to do an installation from [PyPI](https://pypi.python.org/pypi/vaderSentiment) using pip. Check their [Github repository](https://github.com/cjhutto/vaderSentiment) for the detailed explanation."
      ]
    },
    {
      "cell_type": "code",
      "metadata": {
        "colab": {
          "base_uri": "https://localhost:8080/"
        },
        "id": "21lOsEh5NVLA",
        "outputId": "66748b12-aade-40e2-a2fd-44cb9302ef99"
      },
      "source": [
        "!pip install vaderSentiment"
      ],
      "execution_count": 1,
      "outputs": [
        {
          "output_type": "stream",
          "text": [
            "Collecting vaderSentiment\n",
            "\u001b[?25l  Downloading https://files.pythonhosted.org/packages/76/fc/310e16254683c1ed35eeb97386986d6c00bc29df17ce280aed64d55537e9/vaderSentiment-3.3.2-py2.py3-none-any.whl (125kB)\n",
            "\r\u001b[K     |██▋                             | 10kB 15.6MB/s eta 0:00:01\r\u001b[K     |█████▏                          | 20kB 21.7MB/s eta 0:00:01\r\u001b[K     |███████▉                        | 30kB 18.1MB/s eta 0:00:01\r\u001b[K     |██████████▍                     | 40kB 15.3MB/s eta 0:00:01\r\u001b[K     |█████████████                   | 51kB 9.7MB/s eta 0:00:01\r\u001b[K     |███████████████▋                | 61kB 8.5MB/s eta 0:00:01\r\u001b[K     |██████████████████▏             | 71kB 9.4MB/s eta 0:00:01\r\u001b[K     |████████████████████▉           | 81kB 10.3MB/s eta 0:00:01\r\u001b[K     |███████████████████████▍        | 92kB 10.0MB/s eta 0:00:01\r\u001b[K     |██████████████████████████      | 102kB 8.8MB/s eta 0:00:01\r\u001b[K     |████████████████████████████▋   | 112kB 8.8MB/s eta 0:00:01\r\u001b[K     |███████████████████████████████▏| 122kB 8.8MB/s eta 0:00:01\r\u001b[K     |████████████████████████████████| 133kB 8.8MB/s \n",
            "\u001b[?25hRequirement already satisfied: requests in /usr/local/lib/python3.7/dist-packages (from vaderSentiment) (2.23.0)\n",
            "Requirement already satisfied: certifi>=2017.4.17 in /usr/local/lib/python3.7/dist-packages (from requests->vaderSentiment) (2020.12.5)\n",
            "Requirement already satisfied: urllib3!=1.25.0,!=1.25.1,<1.26,>=1.21.1 in /usr/local/lib/python3.7/dist-packages (from requests->vaderSentiment) (1.24.3)\n",
            "Requirement already satisfied: idna<3,>=2.5 in /usr/local/lib/python3.7/dist-packages (from requests->vaderSentiment) (2.10)\n",
            "Requirement already satisfied: chardet<4,>=3.0.2 in /usr/local/lib/python3.7/dist-packages (from requests->vaderSentiment) (3.0.4)\n",
            "Installing collected packages: vaderSentiment\n",
            "Successfully installed vaderSentiment-3.3.2\n"
          ],
          "name": "stdout"
        }
      ]
    },
    {
      "cell_type": "markdown",
      "metadata": {
        "id": "Kvs4GWKbNdMf"
      },
      "source": [
        "###**Import the Package**"
      ]
    },
    {
      "cell_type": "code",
      "metadata": {
        "id": "s1jm3Xk_NcGa"
      },
      "source": [
        "from vaderSentiment.vaderSentiment import SentimentIntensityAnalyzer"
      ],
      "execution_count": 2,
      "outputs": []
    },
    {
      "cell_type": "markdown",
      "metadata": {
        "id": "WxYhF8PvNn6-"
      },
      "source": [
        "Create an analyser instance using `SentimentIntensityAnalyzer` object"
      ]
    },
    {
      "cell_type": "code",
      "metadata": {
        "id": "wAOBDyNGNxZx"
      },
      "source": [
        "analyser = SentimentIntensityAnalyzer()"
      ],
      "execution_count": 3,
      "outputs": []
    },
    {
      "cell_type": "markdown",
      "metadata": {
        "id": "AkcQDe2EN3N2"
      },
      "source": [
        "###**Working & Scoring**\n",
        "Let us test our first sentiment using VADER now. We will use the polarity_scores() method to obtain the polarity indices for the given sentence."
      ]
    },
    {
      "cell_type": "code",
      "metadata": {
        "id": "CHIB0BC9N8Az"
      },
      "source": [
        "def sentiment_analyzer_scores(sentence):\n",
        "    score = analyser.polarity_scores(sentence)\n",
        "    print(\"{:-<40} {}\".format(sentence, str(score)))"
      ],
      "execution_count": 4,
      "outputs": []
    },
    {
      "cell_type": "markdown",
      "metadata": {
        "id": "bK5-McXQN_NO"
      },
      "source": [
        "Let us check how VADER performs on a given review:"
      ]
    },
    {
      "cell_type": "code",
      "metadata": {
        "colab": {
          "base_uri": "https://localhost:8080/"
        },
        "id": "ex-IRDZHOAAX",
        "outputId": "9cfd92cf-8d1e-46da-edfc-3ce32e96c0ab"
      },
      "source": [
        "sentiment_analyzer_scores(\"The phone is super cool.\")"
      ],
      "execution_count": 5,
      "outputs": [
        {
          "output_type": "stream",
          "text": [
            "The phone is super cool.---------------- {'neg': 0.0, 'neu': 0.326, 'pos': 0.674, 'compound': 0.7351}\n"
          ],
          "name": "stdout"
        }
      ]
    },
    {
      "cell_type": "markdown",
      "metadata": {
        "id": "8A057leROaSW"
      },
      "source": [
        "- The Positive, Negative and Neutral scores represent the proportion of text that falls in these categories. This means our sentence was rated as 67% Positive, 33% Neutral and 0% Negative. Hence all these should add up to 1.\n",
        "- The Compound score is a metric that calculates the sum of all the lexicon ratings which have been normalized between -1(most extreme negative) and +1 (most extreme positive). In the case above, lexicon ratings for andsupercool are 2.9and respectively1.3. The compound score turns out to be 0.75 , denoting a very high positive sentiment.\n",
        "\n",
        "Read [here](https://github.com/cjhutto/vaderSentiment#about-the-scoring) for more details on VADER scoring methodology."
      ]
    },
    {
      "cell_type": "markdown",
      "metadata": {
        "id": "eojbe0jsOpoY"
      },
      "source": [
        "**VADER analyses sentiments primarily based on certain key points:**\n",
        "- **Punctuation:** The use of an exclamation mark(!), increases the magnitude of the intensity without modifying the semantic orientation. For example, “The food here is good!” is more intense than “The food here is good.” and an increase in the number of (!), increases the magnitude accordingly.\n"
      ]
    },
    {
      "cell_type": "code",
      "metadata": {
        "colab": {
          "base_uri": "https://localhost:8080/"
        },
        "id": "JdBNLatSOaBI",
        "outputId": "5dbf40eb-1809-412a-89fa-74407664cc82"
      },
      "source": [
        "# Baselien Sentence\n",
        "sentiment_analyzer_scores(\"The food here is good.\")"
      ],
      "execution_count": 6,
      "outputs": [
        {
          "output_type": "stream",
          "text": [
            "The food here is good.------------------ {'neg': 0.0, 'neu': 0.58, 'pos': 0.42, 'compound': 0.4404}\n"
          ],
          "name": "stdout"
        }
      ]
    },
    {
      "cell_type": "code",
      "metadata": {
        "colab": {
          "base_uri": "https://localhost:8080/"
        },
        "id": "x3NHDm95O42t",
        "outputId": "f3582f57-abd4-4cde-a444-8a1ea95f3317"
      },
      "source": [
        "# Punctuation\n",
        "sentiment_analyzer_scores(\"The food here is good!\")\n",
        "sentiment_analyzer_scores(\"The food here is good!!\")\n",
        "sentiment_analyzer_scores(\"The food here is good!!!\")"
      ],
      "execution_count": 7,
      "outputs": [
        {
          "output_type": "stream",
          "text": [
            "The food here is good!------------------ {'neg': 0.0, 'neu': 0.556, 'pos': 0.444, 'compound': 0.4926}\n",
            "The food here is good!!----------------- {'neg': 0.0, 'neu': 0.534, 'pos': 0.466, 'compound': 0.5399}\n",
            "The food here is good!!!---------------- {'neg': 0.0, 'neu': 0.514, 'pos': 0.486, 'compound': 0.5826}\n"
          ],
          "name": "stdout"
        }
      ]
    },
    {
      "cell_type": "markdown",
      "metadata": {
        "id": "fvoNrqSzPGYj"
      },
      "source": [
        "**Re:** We can observe that the overall compound score is increasing with the increase in exclamation marks."
      ]
    },
    {
      "cell_type": "markdown",
      "metadata": {
        "id": "VFBXa3JDPOoh"
      },
      "source": [
        "- **Capitalization:** Using upper case letters to emphasize a sentiment-relevant word in the presence of other non-capitalized words, increases the magnitude of the sentiment intensity. For example, “The food here is GREAT!” conveys more intensity than “The food here is great!”"
      ]
    },
    {
      "cell_type": "code",
      "metadata": {
        "colab": {
          "base_uri": "https://localhost:8080/"
        },
        "id": "h-rNH-cDPUzd",
        "outputId": "a3664655-eaa8-4b0d-9018-8c1be4032a52"
      },
      "source": [
        "# Baselien Sentence\n",
        "sentiment_analyzer_scores(\"The food here is great!\")"
      ],
      "execution_count": 8,
      "outputs": [
        {
          "output_type": "stream",
          "text": [
            "The food here is great!----------------- {'neg': 0.0, 'neu': 0.477, 'pos': 0.523, 'compound': 0.6588}\n"
          ],
          "name": "stdout"
        }
      ]
    },
    {
      "cell_type": "code",
      "metadata": {
        "colab": {
          "base_uri": "https://localhost:8080/"
        },
        "id": "XPXbn5voPYSu",
        "outputId": "ad47e2bc-a12b-4561-84d2-50baa24d03b6"
      },
      "source": [
        "# Capitalization\n",
        "# Baselien Sentence\n",
        "sentiment_analyzer_scores(\"The food here is GREAT!\")"
      ],
      "execution_count": 9,
      "outputs": [
        {
          "output_type": "stream",
          "text": [
            "The food here is GREAT!----------------- {'neg': 0.0, 'neu': 0.438, 'pos': 0.562, 'compound': 0.729}\n"
          ],
          "name": "stdout"
        }
      ]
    },
    {
      "cell_type": "markdown",
      "metadata": {
        "id": "xQvWnYSnPiqm"
      },
      "source": [
        "**Re:** Here we can observe that by changing the letters to capital the compound score has increased to 0.729 from 0.6588."
      ]
    },
    {
      "cell_type": "markdown",
      "metadata": {
        "id": "w4i3jrJ3P4fL"
      },
      "source": [
        "- **Degree modifiers:** Also called intensifiers, they impact the sentiment intensity by either increasing or decreasing the intensity. For example, “The service here is extremely good” is more intense than “The service here is good”, whereas “The service here is marginally good” reduces the intensity.\n"
      ]
    },
    {
      "cell_type": "code",
      "metadata": {
        "colab": {
          "base_uri": "https://localhost:8080/"
        },
        "id": "Rrc3F4k4P89D",
        "outputId": "405aa01a-d77d-46e3-e936-7160996401a2"
      },
      "source": [
        "# Baseline Sentence\n",
        "sentiment_analyzer_scores(\"The service here is good\")"
      ],
      "execution_count": 10,
      "outputs": [
        {
          "output_type": "stream",
          "text": [
            "The service here is good---------------- {'neg': 0.0, 'neu': 0.58, 'pos': 0.42, 'compound': 0.4404}\n"
          ],
          "name": "stdout"
        }
      ]
    },
    {
      "cell_type": "code",
      "metadata": {
        "colab": {
          "base_uri": "https://localhost:8080/"
        },
        "id": "BWZe-2Z0QBxt",
        "outputId": "5bc60798-d60d-453d-cd14-2a9916aa3f9a"
      },
      "source": [
        "# Degree Modifiers\n",
        "sentiment_analyzer_scores(\"The service here is extremenly good\")\n",
        "sentiment_analyzer_scores(\"The service here is marginally good\")"
      ],
      "execution_count": 11,
      "outputs": [
        {
          "output_type": "stream",
          "text": [
            "The service here is extremenly good----- {'neg': 0.0, 'neu': 0.633, 'pos': 0.367, 'compound': 0.4404}\n",
            "The service here is marginally good----- {'neg': 0.0, 'neu': 0.657, 'pos': 0.343, 'compound': 0.3832}\n"
          ],
          "name": "stdout"
        }
      ]
    },
    {
      "cell_type": "markdown",
      "metadata": {
        "id": "GIHOFN5XQLfx"
      },
      "source": [
        "**Re:** The score has been reduced when we have used the word *marginally*."
      ]
    },
    {
      "cell_type": "markdown",
      "metadata": {
        "id": "8VQsZO6PQVBJ"
      },
      "source": [
        "- **Conjunctions:** Use of conjunctions like “but” signals a shift in sentiment polarity, with the sentiment of the text following the conjunction being dominant. “The food here is great, but the service is horrible” has mixed sentiment, with the latter half dictating the overall rating."
      ]
    },
    {
      "cell_type": "code",
      "metadata": {
        "colab": {
          "base_uri": "https://localhost:8080/"
        },
        "id": "q1NWMr2kQYGj",
        "outputId": "b9129ece-2978-47ae-9ca3-9403efda07a6"
      },
      "source": [
        "# Baseline Sentence\n",
        "sentiment_analyzer_scores(\"The food here is great. The service is horrible.\")"
      ],
      "execution_count": 12,
      "outputs": [
        {
          "output_type": "stream",
          "text": [
            "The food here is great. The service is horrible. {'neg': 0.24, 'neu': 0.479, 'pos': 0.281, 'compound': 0.1531}\n"
          ],
          "name": "stdout"
        }
      ]
    },
    {
      "cell_type": "code",
      "metadata": {
        "colab": {
          "base_uri": "https://localhost:8080/"
        },
        "id": "dG08jMw_QjvM",
        "outputId": "da67fcfd-0f24-4e68-81b2-f97745d73b00"
      },
      "source": [
        "# Conjunctions\n",
        "sentiment_analyzer_scores(\"The food here is great, but the service is horrible.\")"
      ],
      "execution_count": 13,
      "outputs": [
        {
          "output_type": "stream",
          "text": [
            "The food here is great, but the service is horrible. {'neg': 0.31, 'neu': 0.523, 'pos': 0.167, 'compound': -0.4939}\n"
          ],
          "name": "stdout"
        }
      ]
    },
    {
      "cell_type": "markdown",
      "metadata": {
        "id": "VwMLQWT0QrwQ"
      },
      "source": [
        "**Re:** The score has been reduced when we have used the word *but*."
      ]
    },
    {
      "cell_type": "markdown",
      "metadata": {
        "id": "8pY6wpBpQ2Z9"
      },
      "source": [
        "- **Preceding Tri-gram:** By examining the tri-gram preceding a sentiment-laden lexical feature, we catch nearly 90% of cases where negation flips the polarity of the text. A negated sentence would be “The food here isn’t really all that great”."
      ]
    },
    {
      "cell_type": "markdown",
      "metadata": {
        "id": "hyCLbvDcRnDn"
      },
      "source": [
        "###**Handling Emojis, Slangs, and Emoticons:**\n",
        "VADER performs very well with emojis, slangs, and acronyms in sentences. Let us see each with an example.\n",
        "\n",
        "- **Emojis:**"
      ]
    },
    {
      "cell_type": "code",
      "metadata": {
        "colab": {
          "base_uri": "https://localhost:8080/"
        },
        "id": "xXgGa5a4RyEW",
        "outputId": "9f590a4a-f2da-4f57-b7a9-992d86929bd1"
      },
      "source": [
        "sentiment_analyzer_scores('I am 😄 today')\n",
        "sentiment_analyzer_scores('😊')\n",
        "sentiment_analyzer_scores('😥')\n",
        "sentiment_analyzer_scores('☹️')\n",
        "sentiment_analyzer_scores('💘')"
      ],
      "execution_count": 17,
      "outputs": [
        {
          "output_type": "stream",
          "text": [
            "I am 😄 today---------------------------- {'neg': 0.0, 'neu': 0.522, 'pos': 0.478, 'compound': 0.6705}\n",
            "😊--------------------------------------- {'neg': 0.0, 'neu': 0.333, 'pos': 0.667, 'compound': 0.7184}\n",
            "😥--------------------------------------- {'neg': 0.275, 'neu': 0.268, 'pos': 0.456, 'compound': 0.3291}\n",
            "☹️-------------------------------------- {'neg': 0.706, 'neu': 0.294, 'pos': 0.0, 'compound': -0.34}\n",
            "💘--------------------------------------- {'neg': 0.0, 'neu': 0.323, 'pos': 0.677, 'compound': 0.6369}\n"
          ],
          "name": "stdout"
        }
      ]
    },
    {
      "cell_type": "markdown",
      "metadata": {
        "id": "EFxa8dnxSAyy"
      },
      "source": [
        "- **Slangs:**"
      ]
    },
    {
      "cell_type": "code",
      "metadata": {
        "colab": {
          "base_uri": "https://localhost:8080/"
        },
        "id": "8g5ApAa4SD0m",
        "outputId": "5913512f-4928-4d71-ee12-51e9f00662a8"
      },
      "source": [
        "sentiment_analyzer_scores(\"Today SUX!\")\n",
        "sentiment_analyzer_scores(\"Today only kinda sux! But I'll get by, lol\")"
      ],
      "execution_count": 18,
      "outputs": [
        {
          "output_type": "stream",
          "text": [
            "Today SUX!------------------------------ {'neg': 0.779, 'neu': 0.221, 'pos': 0.0, 'compound': -0.5461}\n",
            "Today only kinda sux! But I'll get by, lol {'neg': 0.127, 'neu': 0.556, 'pos': 0.317, 'compound': 0.5249}\n"
          ],
          "name": "stdout"
        }
      ]
    },
    {
      "cell_type": "markdown",
      "metadata": {
        "id": "J42_egnZSJGU"
      },
      "source": [
        "- **Emoticons:**"
      ]
    },
    {
      "cell_type": "code",
      "metadata": {
        "colab": {
          "base_uri": "https://localhost:8080/"
        },
        "id": "40_fpvCPSMyr",
        "outputId": "b418268c-db02-4c22-dc95-08219e610870"
      },
      "source": [
        "sentiment_analyzer_scores(\"Make sure you :) or :D today!\")"
      ],
      "execution_count": 19,
      "outputs": [
        {
          "output_type": "stream",
          "text": [
            "Make sure you :) or :D today!----------- {'neg': 0.0, 'neu': 0.294, 'pos': 0.706, 'compound': 0.8633}\n"
          ],
          "name": "stdout"
        }
      ]
    },
    {
      "cell_type": "markdown",
      "metadata": {
        "id": "qH9TOLOUSViC"
      },
      "source": [
        "###**Conclusion:**\n",
        "The results of VADER analysis are not only remarkable but also very encouraging. The outcomes highlight the tremendous benefits that can be attained by the use of VADER in cases of micro-blogging sites wherein the text data is a complex mix of a variety of text."
      ]
    }
  ]
}